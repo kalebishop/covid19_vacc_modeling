{
 "cells": [
  {
   "cell_type": "code",
   "execution_count": 5,
   "metadata": {},
   "outputs": [],
   "source": [
    "import pandas as pd\n",
    "import numpy as np\n",
    "import matplotlib.pyplot as plt\n",
    "import csv"
   ]
  },
  {
   "cell_type": "code",
   "execution_count": 38,
   "metadata": {},
   "outputs": [
    {
     "name": "stdout",
     "output_type": "stream",
     "text": [
      "              value\n",
      "date               \n",
      "2020-12-14    192.0\n",
      "2020-12-15    425.0\n",
      "2020-12-16   4234.0\n",
      "2020-12-17  16470.0\n",
      "2020-12-18  28704.0\n"
     ]
    }
   ],
   "source": [
    "filename = \"./data/covid19_vaccine_2021-04-08.csv\"\n",
    "df = pd.read_csv(filename)\n",
    "# print(df.loc[(df[\"metric\"] == \"Cumulative Daily\") & (df[\"type\"] == \"All COVID Vaccines\")])\n",
    "new = df.loc[(df[\"metric\"] == \"Cumulative Daily\") & (df[\"type\"] == \"All COVID Vaccines\")][[\"date\", \"value\"]].copy()\n",
    "new.date = pd.to_datetime(new['date'], format=\"%Y-%m-%d\")\n",
    "new.set_index(['date'], inplace=True)\n",
    "print(new.head())"
   ]
  },
  {
   "cell_type": "code",
   "execution_count": 39,
   "metadata": {},
   "outputs": [
    {
     "data": {
      "text/plain": [
       "<AxesSubplot:xlabel='date'>"
      ]
     },
     "execution_count": 39,
     "metadata": {},
     "output_type": "execute_result"
    },
    {
     "data": {
      "text/plain": [
       "<Figure size 432x288 with 0 Axes>"
      ]
     },
     "metadata": {},
     "output_type": "display_data"
    },
    {
     "data": {
      "image/png": "[encoded data removed]",
      "text/plain": [
       "<Figure size 432x288 with 1 Axes>"
      ]
     },
     "metadata": {
      "needs_background": "light"
     },
     "output_type": "display_data"
    }
   ],
   "source": [
    "plt.close(\"all\")\n",
    "plt.figure()\n",
    "new.plot()"
   ]
  },
  {
   "cell_type": "code",
   "execution_count": null,
   "metadata": {},
   "outputs": [],
   "source": []
  }
 ],
 "metadata": {
  "kernelspec": {
   "display_name": "Python 3",
   "language": "python",
   "name": "python3"
  },
  "language_info": {
   "codemirror_mode": {
    "name": "ipython",
    "version": 3
   },
   "file_extension": ".py",
   "mimetype": "text/x-python",
   "name": "python",
   "nbconvert_exporter": "python",
   "pygments_lexer": "ipython3",
   "version": "3.6.9"
  }
 },
 "nbformat": 4,
 "nbformat_minor": 2
}
